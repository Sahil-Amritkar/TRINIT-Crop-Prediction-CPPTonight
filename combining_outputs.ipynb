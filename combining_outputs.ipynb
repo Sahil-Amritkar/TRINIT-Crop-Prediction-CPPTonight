{
 "cells": [
  {
   "cell_type": "code",
   "execution_count": 3,
   "metadata": {},
   "outputs": [],
   "source": [
    "import pandas as pd"
   ]
  },
  {
   "cell_type": "code",
   "execution_count": 6,
   "metadata": {},
   "outputs": [
    {
     "name": "stdout",
     "output_type": "stream",
     "text": [
      "Best crops to plant:  ['Crop5', 'Crop4', 'Crop3', 'Crop2']\n"
     ]
    }
   ],
   "source": [
    "'''Input the previous crop grown in soil, see what nutrients that uses,\n",
    " recommend something that grows in that soil/region but uses different nutrients'''\n",
    "\n",
    "\n",
    "# # Initialize the data for the resources N, P, K\n",
    "# resources = {'N': [100], \n",
    "#              'P': [100], \n",
    "#              'K': [100]}\n",
    "\n",
    "# # Create a dataframe from the resources data\n",
    "# df_resources = pd.DataFrame(resources, columns=['N', 'P', 'K'])\n",
    "\n",
    "# # Initialize the data for the crops and their required N, P, K values\n",
    "# crop_requirement = {'Crop': ['Crop1', 'Crop2', 'Crop3', 'Crop4', 'Crop5'], \n",
    "#                     'N': [80, 40, 20, 10, 5], \n",
    "#                     'P': [60, 40, 30, 20, 10], \n",
    "#                     'K': [50, 30, 20, 10, 5]}\n",
    "\n",
    "# # Create a dataframe from the crop requirement data\n",
    "# df_crop_requirement = pd.DataFrame(crop_requirement, columns=['Crop', 'N', 'P', 'K'])\n",
    "\n",
    "# # Given crop that was planted before\n",
    "# prev_crop = 'Crop2'\n",
    "\n",
    "# # Find the resources used by the previous crop\n",
    "# prev_crop_resources = df_crop_requirement[df_crop_requirement['Crop'] == prev_crop].iloc[:, 1:].values[0]\n",
    "\n",
    "# # Calculate the remaining resources\n",
    "# remaining_resources = df_resources - prev_crop_resources\n",
    "\n",
    "# # Find the crops that use the least of the same resource as the previous crop\n",
    "# best_crops = df_crop_requirement[(df_crop_requirement['N'] <= remaining_resources.iloc[0]['N']) & \n",
    "#                                  (df_crop_requirement['P'] <= remaining_resources.iloc[0]['P']) & \n",
    "#                                  (df_crop_requirement['K'] <= remaining_resources.iloc[0]['K'])].sort_values(by=['N', 'P', 'K'])\n",
    "\n",
    "# # Get the crops that use the least of the same resources\n",
    "# best_crops = best_crops['Crop'].tolist()\n",
    "\n",
    "# # Print the best crops\n",
    "# print(\"Best crops to plant: \", best_crops)\n"
   ]
  },
  {
   "cell_type": "code",
   "execution_count": null,
   "metadata": {},
   "outputs": [],
   "source": [
    "#sample outputs from models\n",
    "crops_from_location=['banana' 'cotton' 'maize' 'mungbean' 'rice' 'tapioca' 'chickpea''coconut' 'mango' 'watermelon']\n",
    "crops_from_soiltype=['cotton', 'lentil', 'kidneybeans', 'rice', 'wheat', 'watermelon', 'maize', 'mungbean', 'tapioca']\n",
    "crops_from_conditions=['banana', 'cotton', 'maize', 'mungbean', 'rice', 'tapioca', 'chickpea', 'coconut', 'mango', 'watermelon']"
   ]
  },
  {
   "cell_type": "code",
   "execution_count": null,
   "metadata": {},
   "outputs": [],
   "source": [
    "final_op=list(set(crops_from_location) | set(crops_from_soiltype) & set(crops_from_conditions))"
   ]
  },
  {
   "cell_type": "code",
   "execution_count": 33,
   "metadata": {},
   "outputs": [
    {
     "data": {
      "text/html": [
       "<div>\n",
       "<style scoped>\n",
       "    .dataframe tbody tr th:only-of-type {\n",
       "        vertical-align: middle;\n",
       "    }\n",
       "\n",
       "    .dataframe tbody tr th {\n",
       "        vertical-align: top;\n",
       "    }\n",
       "\n",
       "    .dataframe thead th {\n",
       "        text-align: right;\n",
       "    }\n",
       "</style>\n",
       "<table border=\"1\" class=\"dataframe\">\n",
       "  <thead>\n",
       "    <tr style=\"text-align: right;\">\n",
       "      <th></th>\n",
       "      <th>crop</th>\n",
       "      <th>State</th>\n",
       "      <th>yield</th>\n",
       "      <th>production_cost</th>\n",
       "      <th>sale_price</th>\n",
       "      <th>profit</th>\n",
       "    </tr>\n",
       "  </thead>\n",
       "  <tbody>\n",
       "    <tr>\n",
       "      <th>0</th>\n",
       "      <td>apple</td>\n",
       "      <td>Jammu And Kashmir</td>\n",
       "      <td>10.9</td>\n",
       "      <td>51870.0</td>\n",
       "      <td>60000.0</td>\n",
       "      <td>602130</td>\n",
       "    </tr>\n",
       "    <tr>\n",
       "      <th>1</th>\n",
       "      <td>apple</td>\n",
       "      <td>Himachal Pradesh</td>\n",
       "      <td>1.1</td>\n",
       "      <td>45000.0</td>\n",
       "      <td>50000.0</td>\n",
       "      <td>10000</td>\n",
       "    </tr>\n",
       "    <tr>\n",
       "      <th>2</th>\n",
       "      <td>apple</td>\n",
       "      <td>Uttranchal</td>\n",
       "      <td>1.9</td>\n",
       "      <td>45000.0</td>\n",
       "      <td>50000.0</td>\n",
       "      <td>50000</td>\n",
       "    </tr>\n",
       "    <tr>\n",
       "      <th>3</th>\n",
       "      <td>apple</td>\n",
       "      <td>Arunachal Pradesh</td>\n",
       "      <td>1.3</td>\n",
       "      <td>45000.0</td>\n",
       "      <td>50000.0</td>\n",
       "      <td>20000</td>\n",
       "    </tr>\n",
       "    <tr>\n",
       "      <th>4</th>\n",
       "      <td>apple</td>\n",
       "      <td>Nagaland</td>\n",
       "      <td>3.3</td>\n",
       "      <td>45000.0</td>\n",
       "      <td>48000.0</td>\n",
       "      <td>113400</td>\n",
       "    </tr>\n",
       "    <tr>\n",
       "      <th>5</th>\n",
       "      <td>banana</td>\n",
       "      <td>Maharashtra</td>\n",
       "      <td>65.7</td>\n",
       "      <td>61750.0</td>\n",
       "      <td>15000.0</td>\n",
       "      <td>923750</td>\n",
       "    </tr>\n",
       "    <tr>\n",
       "      <th>6</th>\n",
       "      <td>banana</td>\n",
       "      <td>Tamil Nadu</td>\n",
       "      <td>41.9</td>\n",
       "      <td>61750.0</td>\n",
       "      <td>15000.0</td>\n",
       "      <td>566750</td>\n",
       "    </tr>\n",
       "    <tr>\n",
       "      <th>7</th>\n",
       "      <td>banana</td>\n",
       "      <td>Karnataka</td>\n",
       "      <td>23.8</td>\n",
       "      <td>61750.0</td>\n",
       "      <td>15000.0</td>\n",
       "      <td>295250</td>\n",
       "    </tr>\n",
       "    <tr>\n",
       "      <th>8</th>\n",
       "      <td>banana</td>\n",
       "      <td>Gujarat</td>\n",
       "      <td>34.8</td>\n",
       "      <td>61750.0</td>\n",
       "      <td>15000.0</td>\n",
       "      <td>460250</td>\n",
       "    </tr>\n",
       "    <tr>\n",
       "      <th>9</th>\n",
       "      <td>banana</td>\n",
       "      <td>Andhra Pradesh</td>\n",
       "      <td>22.0</td>\n",
       "      <td>61750.0</td>\n",
       "      <td>15000.0</td>\n",
       "      <td>268250</td>\n",
       "    </tr>\n",
       "  </tbody>\n",
       "</table>\n",
       "</div>"
      ],
      "text/plain": [
       "     crop              State  yield  production_cost  sale_price  profit\n",
       "0   apple  Jammu And Kashmir   10.9          51870.0     60000.0  602130\n",
       "1   apple   Himachal Pradesh    1.1          45000.0     50000.0   10000\n",
       "2   apple         Uttranchal    1.9          45000.0     50000.0   50000\n",
       "3   apple  Arunachal Pradesh    1.3          45000.0     50000.0   20000\n",
       "4   apple           Nagaland    3.3          45000.0     48000.0  113400\n",
       "5  banana        Maharashtra   65.7          61750.0     15000.0  923750\n",
       "6  banana         Tamil Nadu   41.9          61750.0     15000.0  566750\n",
       "7  banana          Karnataka   23.8          61750.0     15000.0  295250\n",
       "8  banana            Gujarat   34.8          61750.0     15000.0  460250\n",
       "9  banana     Andhra Pradesh   22.0          61750.0     15000.0  268250"
      ]
     },
     "execution_count": 33,
     "metadata": {},
     "output_type": "execute_result"
    }
   ],
   "source": [
    "crop_profit=pd.read_csv('datasets/crop_profits.csv')\n",
    "crop_profit.head(10)"
   ]
  },
  {
   "cell_type": "code",
   "execution_count": 34,
   "metadata": {},
   "outputs": [
    {
     "name": "stdout",
     "output_type": "stream",
     "text": [
      "['apple', 'banana', 'blackgram', 'chickpea', 'coconut', 'coffee', 'cotton', 'grapes', 'jute', 'kidneybeans', 'lentil', 'maize', 'mango', 'mungbean', 'orange', 'papaya', 'pomegranate', 'rice', 'tapioca', 'watermelon', 'wheat']\n"
     ]
    }
   ],
   "source": [
    "crop_list=pd.read_csv('datasets/crop_list.csv')\n",
    "crop_list = crop_list['0'].to_list()\n",
    "print(crop_list)"
   ]
  },
  {
   "cell_type": "code",
   "execution_count": 37,
   "metadata": {},
   "outputs": [
    {
     "name": "stdout",
     "output_type": "stream",
     "text": [
      "{'papaya': 737758.3333333334, 'orange': 655900.0, 'banana': 399416.6666666667, 'pomegranate': 250000.0, 'coffee': 200000.0, 'apple': 159106.0, 'cotton': 157000.0, 'watermelon': 110000.0, 'maize': 100000.0, 'mango': 83094.55555555556, 'blackgram': 77000.0, 'lentil': 75000.0, 'coconut': 60000.0, 'tapioca': 55000.0, 'kidneybeans': 50000.0, 'rice': 50000.0, 'wheat': 50000.0, 'chickpea': 40000.0, 'grapes': 28839.777777777777, 'jute': 20000.0, 'mungbean': 20000.0}\n"
     ]
    }
   ],
   "source": [
    "from collections import defaultdict\n",
    "profit={}\n",
    "for crop in crop_list:\n",
    "    profit[crop]=crop_profit[crop_profit['crop']==crop]['profit'].mean()\n",
    "profit = dict(sorted(profit.items(), key=lambda x: x[1], reverse=True))\n",
    "print(profit)"
   ]
  },
  {
   "cell_type": "code",
   "execution_count": 38,
   "metadata": {},
   "outputs": [
    {
     "name": "stdout",
     "output_type": "stream",
     "text": [
      "{'papaya': 1, 'orange': 2, 'banana': 3, 'pomegranate': 4, 'coffee': 5, 'apple': 6, 'cotton': 7, 'watermelon': 8, 'maize': 9, 'mango': 10, 'blackgram': 11, 'lentil': 12, 'coconut': 13, 'tapioca': 14, 'kidneybeans': 15, 'rice': 16, 'wheat': 17, 'chickpea': 18, 'grapes': 19, 'jute': 20, 'mungbean': 21}\n"
     ]
    }
   ],
   "source": [
    "profit_rank={}\n",
    "i=1\n",
    "for crop in profit.keys():\n",
    "    profit_rank[crop]=i\n",
    "    i+=1\n",
    "print(profit_rank)"
   ]
  },
  {
   "cell_type": "code",
   "execution_count": null,
   "metadata": {},
   "outputs": [],
   "source": [
    "import pickle\n",
    "#storing the ranking model\n",
    "pickle_out = open(\"model_pickles/Profit_Rank_model.pickle\",\"wb\")\n",
    "pickle.dump(profit_rank, pickle_out)\n",
    "pickle_out.close()"
   ]
  }
 ],
 "metadata": {
  "kernelspec": {
   "display_name": "Python 3",
   "language": "python",
   "name": "python3"
  },
  "language_info": {
   "codemirror_mode": {
    "name": "ipython",
    "version": 3
   },
   "file_extension": ".py",
   "mimetype": "text/x-python",
   "name": "python",
   "nbconvert_exporter": "python",
   "pygments_lexer": "ipython3",
   "version": "3.9.13"
  },
  "orig_nbformat": 4,
  "vscode": {
   "interpreter": {
    "hash": "b0fa6594d8f4cbf19f97940f81e996739fb7646882a419484c72d19e05852a7e"
   }
  }
 },
 "nbformat": 4,
 "nbformat_minor": 2
}
