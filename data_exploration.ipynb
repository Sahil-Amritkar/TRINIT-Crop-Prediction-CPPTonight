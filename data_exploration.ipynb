{
 "cells": [
  {
   "cell_type": "code",
   "execution_count": 28,
   "metadata": {},
   "outputs": [],
   "source": [
    "import numpy as np\n",
    "import pandas as pd"
   ]
  },
  {
   "cell_type": "code",
   "execution_count": 29,
   "metadata": {},
   "outputs": [
    {
     "data": {
      "text/html": [
       "<div>\n",
       "<style scoped>\n",
       "    .dataframe tbody tr th:only-of-type {\n",
       "        vertical-align: middle;\n",
       "    }\n",
       "\n",
       "    .dataframe tbody tr th {\n",
       "        vertical-align: top;\n",
       "    }\n",
       "\n",
       "    .dataframe thead th {\n",
       "        text-align: right;\n",
       "    }\n",
       "</style>\n",
       "<table border=\"1\" class=\"dataframe\">\n",
       "  <thead>\n",
       "    <tr style=\"text-align: right;\">\n",
       "      <th></th>\n",
       "      <th>N</th>\n",
       "      <th>P</th>\n",
       "      <th>K</th>\n",
       "      <th>temperature</th>\n",
       "      <th>humidity</th>\n",
       "      <th>ph</th>\n",
       "      <th>rainfall</th>\n",
       "      <th>label</th>\n",
       "    </tr>\n",
       "  </thead>\n",
       "  <tbody>\n",
       "    <tr>\n",
       "      <th>0</th>\n",
       "      <td>90</td>\n",
       "      <td>42</td>\n",
       "      <td>43</td>\n",
       "      <td>20.879744</td>\n",
       "      <td>82.002744</td>\n",
       "      <td>6.502985</td>\n",
       "      <td>202.935536</td>\n",
       "      <td>rice</td>\n",
       "    </tr>\n",
       "    <tr>\n",
       "      <th>1</th>\n",
       "      <td>85</td>\n",
       "      <td>58</td>\n",
       "      <td>41</td>\n",
       "      <td>21.770462</td>\n",
       "      <td>80.319644</td>\n",
       "      <td>7.038096</td>\n",
       "      <td>226.655537</td>\n",
       "      <td>rice</td>\n",
       "    </tr>\n",
       "    <tr>\n",
       "      <th>2</th>\n",
       "      <td>60</td>\n",
       "      <td>55</td>\n",
       "      <td>44</td>\n",
       "      <td>23.004459</td>\n",
       "      <td>82.320763</td>\n",
       "      <td>7.840207</td>\n",
       "      <td>263.964248</td>\n",
       "      <td>rice</td>\n",
       "    </tr>\n",
       "    <tr>\n",
       "      <th>3</th>\n",
       "      <td>74</td>\n",
       "      <td>35</td>\n",
       "      <td>40</td>\n",
       "      <td>26.491096</td>\n",
       "      <td>80.158363</td>\n",
       "      <td>6.980401</td>\n",
       "      <td>242.864034</td>\n",
       "      <td>rice</td>\n",
       "    </tr>\n",
       "    <tr>\n",
       "      <th>4</th>\n",
       "      <td>78</td>\n",
       "      <td>42</td>\n",
       "      <td>42</td>\n",
       "      <td>20.130175</td>\n",
       "      <td>81.604873</td>\n",
       "      <td>7.628473</td>\n",
       "      <td>262.717340</td>\n",
       "      <td>rice</td>\n",
       "    </tr>\n",
       "  </tbody>\n",
       "</table>\n",
       "</div>"
      ],
      "text/plain": [
       "    N   P   K  temperature   humidity        ph    rainfall label\n",
       "0  90  42  43    20.879744  82.002744  6.502985  202.935536  rice\n",
       "1  85  58  41    21.770462  80.319644  7.038096  226.655537  rice\n",
       "2  60  55  44    23.004459  82.320763  7.840207  263.964248  rice\n",
       "3  74  35  40    26.491096  80.158363  6.980401  242.864034  rice\n",
       "4  78  42  42    20.130175  81.604873  7.628473  262.717340  rice"
      ]
     },
     "execution_count": 29,
     "metadata": {},
     "output_type": "execute_result"
    }
   ],
   "source": [
    "crop_reco=pd.read_csv(\"datasets/crop_recommendation.csv\")\n",
    "crop_reco.head()"
   ]
  },
  {
   "cell_type": "code",
   "execution_count": 30,
   "metadata": {},
   "outputs": [
    {
     "data": {
      "text/html": [
       "<div>\n",
       "<style scoped>\n",
       "    .dataframe tbody tr th:only-of-type {\n",
       "        vertical-align: middle;\n",
       "    }\n",
       "\n",
       "    .dataframe tbody tr th {\n",
       "        vertical-align: top;\n",
       "    }\n",
       "\n",
       "    .dataframe thead th {\n",
       "        text-align: right;\n",
       "    }\n",
       "</style>\n",
       "<table border=\"1\" class=\"dataframe\">\n",
       "  <thead>\n",
       "    <tr style=\"text-align: right;\">\n",
       "      <th></th>\n",
       "      <th>state</th>\n",
       "      <th>district</th>\n",
       "      <th>market</th>\n",
       "      <th>commodity</th>\n",
       "      <th>variety</th>\n",
       "      <th>arrival_date</th>\n",
       "      <th>min_price</th>\n",
       "      <th>max_price</th>\n",
       "      <th>modal_price</th>\n",
       "    </tr>\n",
       "  </thead>\n",
       "  <tbody>\n",
       "    <tr>\n",
       "      <th>0</th>\n",
       "      <td>Andaman and Nicobar</td>\n",
       "      <td>South Andaman</td>\n",
       "      <td>Port Blair</td>\n",
       "      <td>Amaranthus</td>\n",
       "      <td>Amaranthus</td>\n",
       "      <td>04/03/2019</td>\n",
       "      <td>6000</td>\n",
       "      <td>8000</td>\n",
       "      <td>7000</td>\n",
       "    </tr>\n",
       "    <tr>\n",
       "      <th>1</th>\n",
       "      <td>Andaman and Nicobar</td>\n",
       "      <td>South Andaman</td>\n",
       "      <td>Port Blair</td>\n",
       "      <td>Banana - Green</td>\n",
       "      <td>Banana - Green</td>\n",
       "      <td>04/03/2019</td>\n",
       "      <td>4500</td>\n",
       "      <td>5500</td>\n",
       "      <td>5000</td>\n",
       "    </tr>\n",
       "    <tr>\n",
       "      <th>2</th>\n",
       "      <td>Andaman and Nicobar</td>\n",
       "      <td>South Andaman</td>\n",
       "      <td>Port Blair</td>\n",
       "      <td>Bhindi(Ladies Finger)</td>\n",
       "      <td>Bhindi</td>\n",
       "      <td>04/03/2019</td>\n",
       "      <td>6000</td>\n",
       "      <td>8000</td>\n",
       "      <td>7000</td>\n",
       "    </tr>\n",
       "    <tr>\n",
       "      <th>3</th>\n",
       "      <td>Andaman and Nicobar</td>\n",
       "      <td>South Andaman</td>\n",
       "      <td>Port Blair</td>\n",
       "      <td>Bitter gourd</td>\n",
       "      <td>Other</td>\n",
       "      <td>04/03/2019</td>\n",
       "      <td>6000</td>\n",
       "      <td>8000</td>\n",
       "      <td>7000</td>\n",
       "    </tr>\n",
       "    <tr>\n",
       "      <th>4</th>\n",
       "      <td>Andaman and Nicobar</td>\n",
       "      <td>South Andaman</td>\n",
       "      <td>Port Blair</td>\n",
       "      <td>Black pepper</td>\n",
       "      <td>Other</td>\n",
       "      <td>04/03/2019</td>\n",
       "      <td>110000</td>\n",
       "      <td>130000</td>\n",
       "      <td>120000</td>\n",
       "    </tr>\n",
       "  </tbody>\n",
       "</table>\n",
       "</div>"
      ],
      "text/plain": [
       "                 state       district      market              commodity  \\\n",
       "0  Andaman and Nicobar  South Andaman  Port Blair             Amaranthus   \n",
       "1  Andaman and Nicobar  South Andaman  Port Blair         Banana - Green   \n",
       "2  Andaman and Nicobar  South Andaman  Port Blair  Bhindi(Ladies Finger)   \n",
       "3  Andaman and Nicobar  South Andaman  Port Blair           Bitter gourd   \n",
       "4  Andaman and Nicobar  South Andaman  Port Blair           Black pepper   \n",
       "\n",
       "          variety arrival_date  min_price  max_price  modal_price  \n",
       "0      Amaranthus   04/03/2019       6000       8000         7000  \n",
       "1  Banana - Green   04/03/2019       4500       5500         5000  \n",
       "2          Bhindi   04/03/2019       6000       8000         7000  \n",
       "3           Other   04/03/2019       6000       8000         7000  \n",
       "4           Other   04/03/2019     110000     130000       120000  "
      ]
     },
     "execution_count": 30,
     "metadata": {},
     "output_type": "execute_result"
    }
   ],
   "source": [
    "crop_prices=pd.read_csv(\"datasets/crop_prices.csv\")\n",
    "crop_prices.head()"
   ]
  },
  {
   "cell_type": "code",
   "execution_count": 31,
   "metadata": {},
   "outputs": [
    {
     "data": {
      "text/html": [
       "<div>\n",
       "<style scoped>\n",
       "    .dataframe tbody tr th:only-of-type {\n",
       "        vertical-align: middle;\n",
       "    }\n",
       "\n",
       "    .dataframe tbody tr th {\n",
       "        vertical-align: top;\n",
       "    }\n",
       "\n",
       "    .dataframe thead th {\n",
       "        text-align: right;\n",
       "    }\n",
       "</style>\n",
       "<table border=\"1\" class=\"dataframe\">\n",
       "  <thead>\n",
       "    <tr style=\"text-align: right;\">\n",
       "      <th></th>\n",
       "      <th>state</th>\n",
       "      <th>district</th>\n",
       "      <th>crop</th>\n",
       "      <th>price</th>\n",
       "    </tr>\n",
       "  </thead>\n",
       "  <tbody>\n",
       "    <tr>\n",
       "      <th>0</th>\n",
       "      <td>Andaman and Nicobar</td>\n",
       "      <td>South Andaman</td>\n",
       "      <td>Amaranthus</td>\n",
       "      <td>7000</td>\n",
       "    </tr>\n",
       "    <tr>\n",
       "      <th>1</th>\n",
       "      <td>Andaman and Nicobar</td>\n",
       "      <td>South Andaman</td>\n",
       "      <td>Banana - Green</td>\n",
       "      <td>5000</td>\n",
       "    </tr>\n",
       "    <tr>\n",
       "      <th>2</th>\n",
       "      <td>Andaman and Nicobar</td>\n",
       "      <td>South Andaman</td>\n",
       "      <td>Bhindi(Ladies Finger)</td>\n",
       "      <td>7000</td>\n",
       "    </tr>\n",
       "    <tr>\n",
       "      <th>3</th>\n",
       "      <td>Andaman and Nicobar</td>\n",
       "      <td>South Andaman</td>\n",
       "      <td>Bitter gourd</td>\n",
       "      <td>7000</td>\n",
       "    </tr>\n",
       "    <tr>\n",
       "      <th>4</th>\n",
       "      <td>Andaman and Nicobar</td>\n",
       "      <td>South Andaman</td>\n",
       "      <td>Black pepper</td>\n",
       "      <td>120000</td>\n",
       "    </tr>\n",
       "  </tbody>\n",
       "</table>\n",
       "</div>"
      ],
      "text/plain": [
       "                 state       district                   crop   price\n",
       "0  Andaman and Nicobar  South Andaman             Amaranthus    7000\n",
       "1  Andaman and Nicobar  South Andaman         Banana - Green    5000\n",
       "2  Andaman and Nicobar  South Andaman  Bhindi(Ladies Finger)    7000\n",
       "3  Andaman and Nicobar  South Andaman           Bitter gourd    7000\n",
       "4  Andaman and Nicobar  South Andaman           Black pepper  120000"
      ]
     },
     "execution_count": 31,
     "metadata": {},
     "output_type": "execute_result"
    }
   ],
   "source": [
    "#dropping and renaming\n",
    "crop_prices.drop(['market', 'variety', 'arrival_date', 'min_price', 'max_price'], axis=1, inplace=True)\n",
    "crop_prices.rename(columns = {'modal_price':'price', 'commodity':'crop'}, inplace = True)\n",
    "crop_prices.head()"
   ]
  },
  {
   "cell_type": "code",
   "execution_count": 32,
   "metadata": {},
   "outputs": [
    {
     "data": {
      "text/html": [
       "<div>\n",
       "<style scoped>\n",
       "    .dataframe tbody tr th:only-of-type {\n",
       "        vertical-align: middle;\n",
       "    }\n",
       "\n",
       "    .dataframe tbody tr th {\n",
       "        vertical-align: top;\n",
       "    }\n",
       "\n",
       "    .dataframe thead th {\n",
       "        text-align: right;\n",
       "    }\n",
       "</style>\n",
       "<table border=\"1\" class=\"dataframe\">\n",
       "  <thead>\n",
       "    <tr style=\"text-align: right;\">\n",
       "      <th></th>\n",
       "      <th>STATE_UT_NAME</th>\n",
       "      <th>DISTRICT</th>\n",
       "      <th>JAN</th>\n",
       "      <th>FEB</th>\n",
       "      <th>MAR</th>\n",
       "      <th>APR</th>\n",
       "      <th>MAY</th>\n",
       "      <th>JUN</th>\n",
       "      <th>JUL</th>\n",
       "      <th>AUG</th>\n",
       "      <th>SEP</th>\n",
       "      <th>OCT</th>\n",
       "      <th>NOV</th>\n",
       "      <th>DEC</th>\n",
       "      <th>ANNUAL</th>\n",
       "      <th>Jan-Feb</th>\n",
       "      <th>Mar-May</th>\n",
       "      <th>Jun-Sep</th>\n",
       "      <th>Oct-Dec</th>\n",
       "    </tr>\n",
       "  </thead>\n",
       "  <tbody>\n",
       "    <tr>\n",
       "      <th>0</th>\n",
       "      <td>ANDAMAN And NICOBAR ISLANDS</td>\n",
       "      <td>NICOBAR</td>\n",
       "      <td>107.3</td>\n",
       "      <td>57.9</td>\n",
       "      <td>65.2</td>\n",
       "      <td>117.0</td>\n",
       "      <td>358.5</td>\n",
       "      <td>295.5</td>\n",
       "      <td>285.0</td>\n",
       "      <td>271.9</td>\n",
       "      <td>354.8</td>\n",
       "      <td>326.0</td>\n",
       "      <td>315.2</td>\n",
       "      <td>250.9</td>\n",
       "      <td>2805.2</td>\n",
       "      <td>165.2</td>\n",
       "      <td>540.7</td>\n",
       "      <td>1207.2</td>\n",
       "      <td>892.1</td>\n",
       "    </tr>\n",
       "    <tr>\n",
       "      <th>1</th>\n",
       "      <td>ANDAMAN And NICOBAR ISLANDS</td>\n",
       "      <td>SOUTH ANDAMAN</td>\n",
       "      <td>43.7</td>\n",
       "      <td>26.0</td>\n",
       "      <td>18.6</td>\n",
       "      <td>90.5</td>\n",
       "      <td>374.4</td>\n",
       "      <td>457.2</td>\n",
       "      <td>421.3</td>\n",
       "      <td>423.1</td>\n",
       "      <td>455.6</td>\n",
       "      <td>301.2</td>\n",
       "      <td>275.8</td>\n",
       "      <td>128.3</td>\n",
       "      <td>3015.7</td>\n",
       "      <td>69.7</td>\n",
       "      <td>483.5</td>\n",
       "      <td>1757.2</td>\n",
       "      <td>705.3</td>\n",
       "    </tr>\n",
       "    <tr>\n",
       "      <th>2</th>\n",
       "      <td>ANDAMAN And NICOBAR ISLANDS</td>\n",
       "      <td>N &amp; M ANDAMAN</td>\n",
       "      <td>32.7</td>\n",
       "      <td>15.9</td>\n",
       "      <td>8.6</td>\n",
       "      <td>53.4</td>\n",
       "      <td>343.6</td>\n",
       "      <td>503.3</td>\n",
       "      <td>465.4</td>\n",
       "      <td>460.9</td>\n",
       "      <td>454.8</td>\n",
       "      <td>276.1</td>\n",
       "      <td>198.6</td>\n",
       "      <td>100.0</td>\n",
       "      <td>2913.3</td>\n",
       "      <td>48.6</td>\n",
       "      <td>405.6</td>\n",
       "      <td>1884.4</td>\n",
       "      <td>574.7</td>\n",
       "    </tr>\n",
       "    <tr>\n",
       "      <th>3</th>\n",
       "      <td>ARUNACHAL PRADESH</td>\n",
       "      <td>LOHIT</td>\n",
       "      <td>42.2</td>\n",
       "      <td>80.8</td>\n",
       "      <td>176.4</td>\n",
       "      <td>358.5</td>\n",
       "      <td>306.4</td>\n",
       "      <td>447.0</td>\n",
       "      <td>660.1</td>\n",
       "      <td>427.8</td>\n",
       "      <td>313.6</td>\n",
       "      <td>167.1</td>\n",
       "      <td>34.1</td>\n",
       "      <td>29.8</td>\n",
       "      <td>3043.8</td>\n",
       "      <td>123.0</td>\n",
       "      <td>841.3</td>\n",
       "      <td>1848.5</td>\n",
       "      <td>231.0</td>\n",
       "    </tr>\n",
       "    <tr>\n",
       "      <th>4</th>\n",
       "      <td>ARUNACHAL PRADESH</td>\n",
       "      <td>EAST SIANG</td>\n",
       "      <td>33.3</td>\n",
       "      <td>79.5</td>\n",
       "      <td>105.9</td>\n",
       "      <td>216.5</td>\n",
       "      <td>323.0</td>\n",
       "      <td>738.3</td>\n",
       "      <td>990.9</td>\n",
       "      <td>711.2</td>\n",
       "      <td>568.0</td>\n",
       "      <td>206.9</td>\n",
       "      <td>29.5</td>\n",
       "      <td>31.7</td>\n",
       "      <td>4034.7</td>\n",
       "      <td>112.8</td>\n",
       "      <td>645.4</td>\n",
       "      <td>3008.4</td>\n",
       "      <td>268.1</td>\n",
       "    </tr>\n",
       "  </tbody>\n",
       "</table>\n",
       "</div>"
      ],
      "text/plain": [
       "                 STATE_UT_NAME       DISTRICT    JAN   FEB    MAR    APR  \\\n",
       "0  ANDAMAN And NICOBAR ISLANDS        NICOBAR  107.3  57.9   65.2  117.0   \n",
       "1  ANDAMAN And NICOBAR ISLANDS  SOUTH ANDAMAN   43.7  26.0   18.6   90.5   \n",
       "2  ANDAMAN And NICOBAR ISLANDS  N & M ANDAMAN   32.7  15.9    8.6   53.4   \n",
       "3            ARUNACHAL PRADESH          LOHIT   42.2  80.8  176.4  358.5   \n",
       "4            ARUNACHAL PRADESH     EAST SIANG   33.3  79.5  105.9  216.5   \n",
       "\n",
       "     MAY    JUN    JUL    AUG    SEP    OCT    NOV    DEC  ANNUAL  Jan-Feb  \\\n",
       "0  358.5  295.5  285.0  271.9  354.8  326.0  315.2  250.9  2805.2    165.2   \n",
       "1  374.4  457.2  421.3  423.1  455.6  301.2  275.8  128.3  3015.7     69.7   \n",
       "2  343.6  503.3  465.4  460.9  454.8  276.1  198.6  100.0  2913.3     48.6   \n",
       "3  306.4  447.0  660.1  427.8  313.6  167.1   34.1   29.8  3043.8    123.0   \n",
       "4  323.0  738.3  990.9  711.2  568.0  206.9   29.5   31.7  4034.7    112.8   \n",
       "\n",
       "   Mar-May  Jun-Sep  Oct-Dec  \n",
       "0    540.7   1207.2    892.1  \n",
       "1    483.5   1757.2    705.3  \n",
       "2    405.6   1884.4    574.7  \n",
       "3    841.3   1848.5    231.0  \n",
       "4    645.4   3008.4    268.1  "
      ]
     },
     "execution_count": 32,
     "metadata": {},
     "output_type": "execute_result"
    }
   ],
   "source": [
    "district_rain=pd.read_csv(\"datasets/district_wise_rainfall.csv\")\n",
    "district_rain.head()"
   ]
  },
  {
   "cell_type": "code",
   "execution_count": 33,
   "metadata": {},
   "outputs": [
    {
     "data": {
      "text/html": [
       "<div>\n",
       "<style scoped>\n",
       "    .dataframe tbody tr th:only-of-type {\n",
       "        vertical-align: middle;\n",
       "    }\n",
       "\n",
       "    .dataframe tbody tr th {\n",
       "        vertical-align: top;\n",
       "    }\n",
       "\n",
       "    .dataframe thead th {\n",
       "        text-align: right;\n",
       "    }\n",
       "</style>\n",
       "<table border=\"1\" class=\"dataframe\">\n",
       "  <thead>\n",
       "    <tr style=\"text-align: right;\">\n",
       "      <th></th>\n",
       "      <th>state</th>\n",
       "      <th>district</th>\n",
       "      <th>annual</th>\n",
       "      <th>Jan-Feb</th>\n",
       "      <th>Mar-May</th>\n",
       "      <th>Jun-Sep</th>\n",
       "      <th>Oct-Dec</th>\n",
       "    </tr>\n",
       "  </thead>\n",
       "  <tbody>\n",
       "    <tr>\n",
       "      <th>0</th>\n",
       "      <td>ANDAMAN And NICOBAR ISLANDS</td>\n",
       "      <td>NICOBAR</td>\n",
       "      <td>2805.2</td>\n",
       "      <td>165.2</td>\n",
       "      <td>540.7</td>\n",
       "      <td>1207.2</td>\n",
       "      <td>892.1</td>\n",
       "    </tr>\n",
       "    <tr>\n",
       "      <th>1</th>\n",
       "      <td>ANDAMAN And NICOBAR ISLANDS</td>\n",
       "      <td>SOUTH ANDAMAN</td>\n",
       "      <td>3015.7</td>\n",
       "      <td>69.7</td>\n",
       "      <td>483.5</td>\n",
       "      <td>1757.2</td>\n",
       "      <td>705.3</td>\n",
       "    </tr>\n",
       "    <tr>\n",
       "      <th>2</th>\n",
       "      <td>ANDAMAN And NICOBAR ISLANDS</td>\n",
       "      <td>N &amp; M ANDAMAN</td>\n",
       "      <td>2913.3</td>\n",
       "      <td>48.6</td>\n",
       "      <td>405.6</td>\n",
       "      <td>1884.4</td>\n",
       "      <td>574.7</td>\n",
       "    </tr>\n",
       "    <tr>\n",
       "      <th>3</th>\n",
       "      <td>ARUNACHAL PRADESH</td>\n",
       "      <td>LOHIT</td>\n",
       "      <td>3043.8</td>\n",
       "      <td>123.0</td>\n",
       "      <td>841.3</td>\n",
       "      <td>1848.5</td>\n",
       "      <td>231.0</td>\n",
       "    </tr>\n",
       "    <tr>\n",
       "      <th>4</th>\n",
       "      <td>ARUNACHAL PRADESH</td>\n",
       "      <td>EAST SIANG</td>\n",
       "      <td>4034.7</td>\n",
       "      <td>112.8</td>\n",
       "      <td>645.4</td>\n",
       "      <td>3008.4</td>\n",
       "      <td>268.1</td>\n",
       "    </tr>\n",
       "  </tbody>\n",
       "</table>\n",
       "</div>"
      ],
      "text/plain": [
       "                         state       district  annual  Jan-Feb  Mar-May  \\\n",
       "0  ANDAMAN And NICOBAR ISLANDS        NICOBAR  2805.2    165.2    540.7   \n",
       "1  ANDAMAN And NICOBAR ISLANDS  SOUTH ANDAMAN  3015.7     69.7    483.5   \n",
       "2  ANDAMAN And NICOBAR ISLANDS  N & M ANDAMAN  2913.3     48.6    405.6   \n",
       "3            ARUNACHAL PRADESH          LOHIT  3043.8    123.0    841.3   \n",
       "4            ARUNACHAL PRADESH     EAST SIANG  4034.7    112.8    645.4   \n",
       "\n",
       "   Jun-Sep  Oct-Dec  \n",
       "0   1207.2    892.1  \n",
       "1   1757.2    705.3  \n",
       "2   1884.4    574.7  \n",
       "3   1848.5    231.0  \n",
       "4   3008.4    268.1  "
      ]
     },
     "execution_count": 33,
     "metadata": {},
     "output_type": "execute_result"
    }
   ],
   "source": [
    "#dropping and renaming\n",
    "district_rain.drop(district_rain.iloc[:, 2:14], axis=1, inplace=True)\n",
    "district_rain.rename(columns = {'STATE_UT_NAME':'state', 'DISTRICT':'district', 'ANNUAL':'annual'}, inplace = True)\n",
    "district_rain['annual_avg']=district_rain['annual']/12\n",
    "district_rain.head()"
   ]
  },
  {
   "cell_type": "code",
   "execution_count": 48,
   "metadata": {},
   "outputs": [],
   "source": [
    "#making all state and district names lowercase\n",
    "district_rain['state'] = district_rain['state'].str.lower()\n",
    "crop_prices['state'] = crop_prices['state'].str.lower()\n",
    "district_rain['district'] = district_rain['district'].str.lower()\n",
    "crop_prices['district'] = crop_prices['district'].str.lower()"
   ]
  },
  {
   "cell_type": "code",
   "execution_count": 45,
   "metadata": {},
   "outputs": [],
   "source": [
    "#removing the states in rainfall dataset which dont exist in crop prices dataset\n",
    "district_rain_temp = district_rain[district_rain['state'].isin(crop_prices['state'])]\n",
    "x=list(district_rain_temp['state'].unique())"
   ]
  },
  {
   "cell_type": "code",
   "execution_count": 47,
   "metadata": {},
   "outputs": [
    {
     "name": "stdout",
     "output_type": "stream",
     "text": [
      "{'uttrakhand', 'odisha', 'chattisgarh', 'andaman and nicobar', 'himachal pradesh', 'telangana'}\n"
     ]
    }
   ],
   "source": [
    "#finding out which states are named differently\n",
    "s=set()\n",
    "for i in crop_prices['state'].to_list():\n",
    "    if i not in x:\n",
    "        s.add(i)\n",
    "print(s)"
   ]
  },
  {
   "cell_type": "code",
   "execution_count": 54,
   "metadata": {},
   "outputs": [],
   "source": [
    "#manually changing them\n",
    "district_rain.replace({'uttaranchal':'uttrakhand', 'orissa':'odisha', 'chatisgarh':'chattisgarh', 'andaman and nicobar islands': 'andaman and nicobar', 'himachal':'himachal pradesh'}, \n",
    "                        regex=True, inplace=True)"
   ]
  },
  {
   "cell_type": "code",
   "execution_count": 78,
   "metadata": {},
   "outputs": [
    {
     "name": "stdout",
     "output_type": "stream",
     "text": [
      "25\n"
     ]
    }
   ],
   "source": [
    "#removing the states in rainfall dataset which dont exist in crop prices dataset again\n",
    "district_rain = district_rain[district_rain['state'].isin(crop_prices['state'])]\n",
    "x=list(district_rain['state'].unique())\n",
    "print(len(x))"
   ]
  },
  {
   "attachments": {},
   "cell_type": "markdown",
   "metadata": {},
   "source": [
    "Special case - telangana"
   ]
  },
  {
   "cell_type": "code",
   "execution_count": 79,
   "metadata": {},
   "outputs": [
    {
     "name": "stdout",
     "output_type": "stream",
     "text": [
      "['east godavari', 'west godavari', 'guntur', 'krishna', 'nellore', 'prakasam', 'srikakulam', 'visakhapatnam', 'vizianagaram', 'adilabad', 'hyderabad', 'karimnagar', 'khammam', 'mahabubnagar', 'medak', 'nalgonda', 'nizamabad', 'warangal', 'rangareddy', 'anantapur', 'chittoor', 'kuddapah', 'kurnool']\n"
     ]
    }
   ],
   "source": [
    "#districts in unsplit andhra pradesh \n",
    "both_districsts=list(district_rain[district_rain['state'] == 'andhra pradesh']['district'].unique())\n",
    "print(both_districsts)"
   ]
  },
  {
   "cell_type": "code",
   "execution_count": 80,
   "metadata": {},
   "outputs": [
    {
     "name": "stdout",
     "output_type": "stream",
     "text": [
      "['hyderabad', 'karimnagar', 'khammam', 'nalgonda', 'nizamabad', 'ranga reddy']\n"
     ]
    }
   ],
   "source": [
    "#districts which come under telangana\n",
    "telangana_districts=list(crop_prices[crop_prices['state']=='telangana']['district'].unique())\n",
    "print(telangana_districts)"
   ]
  },
  {
   "cell_type": "code",
   "execution_count": 85,
   "metadata": {},
   "outputs": [
    {
     "name": "stderr",
     "output_type": "stream",
     "text": [
      "/var/folders/9p/s20qcdt565j49qt2_m5b682m0000gn/T/ipykernel_60584/2352609549.py:2: SettingWithCopyWarning: \n",
      "A value is trying to be set on a copy of a slice from a DataFrame.\n",
      "Try using .loc[row_indexer,col_indexer] = value instead\n",
      "\n",
      "See the caveats in the documentation: https://pandas.pydata.org/pandas-docs/stable/user_guide/indexing.html#returning-a-view-versus-a-copy\n",
      "  district_rain['state'] = np.where(district_rain['district'].isin(telangana_districts), 'telangana', district_rain['state'])\n"
     ]
    },
    {
     "data": {
      "text/plain": [
       "26"
      ]
     },
     "execution_count": 85,
     "metadata": {},
     "output_type": "execute_result"
    }
   ],
   "source": [
    "#change andhra pradesh to telangana if district belongs to telangana\n",
    "district_rain['state'] = np.where(district_rain['district'].isin(telangana_districts), 'telangana', district_rain['state'])\n",
    "len(list(district_rain['state'].unique()))"
   ]
  },
  {
   "cell_type": "code",
   "execution_count": 58,
   "metadata": {},
   "outputs": [
    {
     "data": {
      "text/plain": [
       "state\n",
       "andaman and nicobar     1\n",
       "andhra pradesh          3\n",
       "assam                   6\n",
       "chattisgarh             3\n",
       "goa                     1\n",
       "gujarat                 9\n",
       "haryana                 6\n",
       "himachal pradesh        2\n",
       "jammu and kashmir       1\n",
       "karnataka               3\n",
       "kerala                  9\n",
       "madhya pradesh          8\n",
       "maharashtra            10\n",
       "manipur                 5\n",
       "meghalaya               1\n",
       "nagaland                1\n",
       "odisha                 10\n",
       "pondicherry             1\n",
       "punjab                 12\n",
       "rajasthan               9\n",
       "tamil nadu             18\n",
       "telangana               6\n",
       "tripura                 3\n",
       "uttar pradesh          32\n",
       "uttrakhand              2\n",
       "west bengal            12\n",
       "dtype: int64"
      ]
     },
     "execution_count": 58,
     "metadata": {},
     "output_type": "execute_result"
    }
   ],
   "source": [
    "crop_prices.groupby('state').apply(lambda x: len(x['district'].unique().tolist())).sort_index()"
   ]
  },
  {
   "cell_type": "code",
   "execution_count": 60,
   "metadata": {},
   "outputs": [
    {
     "data": {
      "text/plain": [
       "state\n",
       "andaman and nicobar     3\n",
       "andhra pradesh         23\n",
       "assam                  27\n",
       "chattisgarh            18\n",
       "goa                     2\n",
       "gujarat                26\n",
       "haryana                21\n",
       "himachal pradesh       12\n",
       "jammu and kashmir      22\n",
       "karnataka              30\n",
       "kerala                 14\n",
       "madhya pradesh         50\n",
       "maharashtra            35\n",
       "manipur                 9\n",
       "meghalaya               7\n",
       "nagaland               11\n",
       "odisha                 30\n",
       "pondicherry             4\n",
       "punjab                 20\n",
       "rajasthan              33\n",
       "tamil nadu             32\n",
       "tripura                 4\n",
       "uttar pradesh          71\n",
       "uttrakhand             13\n",
       "west bengal            19\n",
       "dtype: int64"
      ]
     },
     "execution_count": 60,
     "metadata": {},
     "output_type": "execute_result"
    }
   ],
   "source": [
    "district_rain_temp.groupby('state').apply(lambda x: len(x['district'].unique().tolist())).sort_index()"
   ]
  },
  {
   "cell_type": "code",
   "execution_count": 68,
   "metadata": {},
   "outputs": [
    {
     "name": "stdout",
     "output_type": "stream",
     "text": [
      "                                   price\n",
      "crop                                    \n",
      "Banana                        223.606798\n",
      "Bengal Gram Dal (Chana Dal)  1501.110700\n",
      "Cabbage                       250.998008\n",
      "Cauliflower                   273.861279\n",
      "Dry Chillies                  830.160627\n",
      "Ginger(Green)                1140.175425\n",
      "Masur Dal                     443.846820\n",
      "Onion                         223.606798\n",
      "Paddy(Dhan)(Common)           119.678388\n",
      "Potato                        248.997992\n",
      "Rice                          223.606798\n",
      "Turmeric (raw)                       NaN\n",
      "                                    price\n",
      "crop                                     \n",
      "Banana                        3400.000000\n",
      "Bengal Gram Dal (Chana Dal)   9533.333333\n",
      "Cabbage                       1260.000000\n",
      "Cauliflower                   2200.000000\n",
      "Dry Chillies                 14325.000000\n",
      "Ginger(Green)                 4400.000000\n",
      "Masur Dal                     7480.000000\n",
      "Onion                         2400.000000\n",
      "Paddy(Dhan)(Common)           2343.750000\n",
      "Potato                        1180.000000\n",
      "Rice                          3800.000000\n",
      "Turmeric (raw)                2500.000000\n"
     ]
    }
   ],
   "source": [
    "#seeing standard deviation of prices between districts of a state, to see if we can just take average for a state\n",
    "print(crop_prices[crop_prices['state']=='manipur'].groupby('crop').std())\n",
    "print(crop_prices[crop_prices['state']=='manipur'].groupby('crop').mean())"
   ]
  },
  {
   "attachments": {},
   "cell_type": "markdown",
   "metadata": {},
   "source": [
    "Exploring Crop types in datasets"
   ]
  },
  {
   "cell_type": "code",
   "execution_count": 89,
   "metadata": {},
   "outputs": [],
   "source": [
    "crops_available=list(crop_reco['label'].unique())"
   ]
  },
  {
   "cell_type": "code",
   "execution_count": 87,
   "metadata": {},
   "outputs": [
    {
     "data": {
      "text/plain": [
       "array(['Amaranthus', 'Banana - Green', 'Bhindi(Ladies Finger)',\n",
       "       'Bitter gourd', 'Black pepper', 'Bottle gourd', 'Brinjal',\n",
       "       'Cabbage', 'Carrot', 'Cauliflower', 'Cluster beans', 'Coconut',\n",
       "       'Colacasia', 'Onion', 'Potato', 'Tomato',\n",
       "       'Bengal Gram(Gram)(Whole)', 'Jowar(Sorghum)',\n",
       "       'Paddy(Dhan)(Common)', 'Lentil (Masur)(Whole)', 'Rice',\n",
       "       'Cucumbar(Kheera)', 'Field Pea', 'French Beans (Frasbean)',\n",
       "       'Green Chilli', 'Knool Khol', 'Pumpkin', 'Raddish',\n",
       "       'Black Gram (Urd Beans)(Whole)', 'Green Gram (Moong)(Whole)',\n",
       "       'Jute', 'Maida Atta', 'Mustard', 'Wheat Atta', 'Garlic',\n",
       "       'Masur Dal', 'Ridgeguard(Tori)', 'Arecanut(Betelnut/Supari)',\n",
       "       'Arhar (Tur/Red Gram)(Whole)', 'Maize', 'Dry Chillies',\n",
       "       'Groundnut', 'Capsicum', 'Guar', 'Lemon',\n",
       "       'Bajra(Pearl Millet/Cumbu)', 'Castor Seed', 'Coriander(Leaves)',\n",
       "       'Cowpea(Veg)', 'Drumstick', 'Elephant Yam (Suran)',\n",
       "       'Ginger(Green)', 'Indian Beans (Seam)', 'Methi(Leaves)',\n",
       "       'Onion Green', 'Peas cod', 'Pegeon Pea (Arhar Fali)',\n",
       "       'Sponge gourd', 'Surat Beans (Papadi)', 'Sweet Potato', 'Tinda',\n",
       "       'Guar Seed(Cluster Beans Seed)', 'Cotton', 'Wheat',\n",
       "       'Gram Raw(Chholia)', 'Little gourd (Kundru)', 'Round gourd',\n",
       "       'Leafy Vegetable', 'Mint(Pudina)', 'Papaya (Raw)', 'Spinach',\n",
       "       'Pointed gourd (Parval)', 'Banana', 'Ber(Zizyphus/Borehannu)',\n",
       "       'Grapes', 'Kinnow', 'Peas Wet', 'Apple', 'Orange', 'Pomegranate',\n",
       "       'Papaya', 'Chikoos(Sapota)', 'Mashrooms', 'Mousambi(Sweet Lime)',\n",
       "       'Pineapple', 'Guava', 'Turnip', 'Ginger(Dry)',\n",
       "       'Squash(Chappal Kadoo)', 'Beans', 'Beetroot', 'Chilly Capsicum',\n",
       "       'Green Avare (W)', 'Seemebadnekai', 'Snakeguard', 'Suvarna Gadde',\n",
       "       'Water Melon', 'Copra', 'Amphophalus', 'Ashgourd', 'Coconut Oil',\n",
       "       'Rubber', 'Cashewnuts', 'Pepper garbled', 'Coconut Seed',\n",
       "       'Long Melon(Kakri)', 'Tapioca', 'Turmeric (raw)',\n",
       "       'Mango (Raw-Ripe)', 'Amla(Nelli Kai)', 'Duster Beans', 'Mango',\n",
       "       'Soyabean', 'Linseed', 'Niger Seed (Ramtil)',\n",
       "       'Green Gram Dal (Moong Dal)', 'Lime', 'Turmeric',\n",
       "       'Karbuja(Musk Melon)', 'Pear(Marasebu)', 'Rajgir', 'Sweet Pumpkin',\n",
       "       'Tender Coconut', 'Bengal Gram Dal (Chana Dal)', 'Betal Leaves',\n",
       "       'Broken Rice', 'Gur(Jaggery)', 'Sugar',\n",
       "       'Sesamum(Sesame,Gingelly,Til)', 'Moath Dal', 'Corriander seed',\n",
       "       'Ground Nut Seed', 'Taramira', 'Tobacco', 'Tamarind Fruit',\n",
       "       'Cowpea (Lobia/Karamani)', 'Kulthi(Horse Gram)',\n",
       "       'Ragi (Finger Millet)', 'T.V. Cumbu', 'Gingelly Oil',\n",
       "       'Kodo Millet(Varagu)', 'Hybrid Cumbu', 'Karamani',\n",
       "       'Thinai (Italian Millet)', 'Wood', 'Barley (Jau)', 'Fish',\n",
       "       'Green Peas', 'Arhar Dal(Tur Dal)', 'Black Gram Dal (Urd Dal)',\n",
       "       'Mustard Oil', 'Ghee', 'Paddy(Dhan)(Basmati)', 'White Pumpkin',\n",
       "       'Peas(Dry)', 'Plum'], dtype=object)"
      ]
     },
     "execution_count": 87,
     "metadata": {},
     "output_type": "execute_result"
    }
   ],
   "source": [
    "crop_prices['crop'].unique()"
   ]
  },
  {
   "cell_type": "code",
   "execution_count": 90,
   "metadata": {},
   "outputs": [],
   "source": [
    "#change the name of crop to one of crop reco ones via regex\n",
    "for i in crops_available:\n",
    "    crop_prices['crop'] = crop_prices['crop'].str.replace(i, i, regex=True)"
   ]
  },
  {
   "cell_type": "code",
   "execution_count": 92,
   "metadata": {},
   "outputs": [
    {
     "data": {
      "text/plain": [
       "156"
      ]
     },
     "execution_count": 92,
     "metadata": {},
     "output_type": "execute_result"
    }
   ],
   "source": [
    "len(crop_prices['crop'].unique())"
   ]
  },
  {
   "cell_type": "code",
   "execution_count": 70,
   "metadata": {},
   "outputs": [
    {
     "data": {
      "text/plain": [
       "0.0944230533485546"
      ]
     },
     "execution_count": 70,
     "metadata": {},
     "output_type": "execute_result"
    }
   ],
   "source": [
    "#correlation between humidity and rainfall\n",
    "crop_reco['humidity'].corr(crop_reco['rainfall'])\n",
    "#not much"
   ]
  }
 ],
 "metadata": {
  "kernelspec": {
   "display_name": "Python 3",
   "language": "python",
   "name": "python3"
  },
  "language_info": {
   "codemirror_mode": {
    "name": "ipython",
    "version": 3
   },
   "file_extension": ".py",
   "mimetype": "text/x-python",
   "name": "python",
   "nbconvert_exporter": "python",
   "pygments_lexer": "ipython3",
   "version": "3.9.13"
  },
  "orig_nbformat": 4,
  "vscode": {
   "interpreter": {
    "hash": "b0fa6594d8f4cbf19f97940f81e996739fb7646882a419484c72d19e05852a7e"
   }
  }
 },
 "nbformat": 4,
 "nbformat_minor": 2
}
